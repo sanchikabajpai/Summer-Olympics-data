{
 "cells": [
  {
   "cell_type": "markdown",
   "metadata": {},
   "source": [
    "Evaluate the Summer Olympics, London 2012 dataset\n",
    "Evaluate the dataset of the Summer Olympics, London 2012 to:\n",
    "\n",
    "Find and print the name of the country that won maximum gold medals,\n",
    "Find and print the countries who won more than 20 gold medals,\n",
    "Print the medal tally,\n",
    "Print each country name with the corresponding number of gold medals, and\n",
    "Print each country's name with the total number of medals won.\n"
   ]
  },
  {
   "cell_type": "markdown",
   "metadata": {},
   "source": [
    "#### 1: View and add the dataset"
   ]
  },
  {
   "cell_type": "code",
   "execution_count": 3,
   "metadata": {},
   "outputs": [],
   "source": [
    "#Import the necessary library\n",
    "import numpy as np\n",
    "import pandas as pd\n"
   ]
  },
  {
   "cell_type": "code",
   "execution_count": 8,
   "metadata": {},
   "outputs": [],
   "source": [
    "#Manually add the Summer Olympics, London 2012 dataset as arrays\n",
    "olympic_country = np.array(['Great Britain','China','Russia','United States','Korea','Japan','Germany'])\n",
    "olympic_country_gold = np.array([29,38,24,46,13,7,11])\n",
    "olympic_country_silver = np.array([17,28,25,28,8,14,11])\n",
    "olympic_country_bronze = np.array([19,22,32,29,7,17,14])"
   ]
  },
  {
   "cell_type": "markdown",
   "metadata": {},
   "source": [
    "#### Find the country with maximum gold medals"
   ]
  },
  {
   "cell_type": "code",
   "execution_count": 9,
   "metadata": {},
   "outputs": [
    {
     "data": {
      "text/plain": [
       "3"
      ]
     },
     "execution_count": 9,
     "metadata": {},
     "output_type": "execute_result"
    }
   ],
   "source": [
    "#Use the argmax() method to find the highest number of gold medals\n",
    "max_gold = olympic_country_gold.argmax()\n",
    "max_gold"
   ]
  },
  {
   "cell_type": "code",
   "execution_count": 11,
   "metadata": {},
   "outputs": [
    {
     "data": {
      "text/plain": [
       "'United States'"
      ]
     },
     "execution_count": 11,
     "metadata": {},
     "output_type": "execute_result"
    }
   ],
   "source": [
    "#Print the name of the country\n",
    "olympic_country_name = olympic_country[max_gold]\n",
    "olympic_country_name"
   ]
  },
  {
   "cell_type": "markdown",
   "metadata": {},
   "source": [
    "#### Find the countries with more than 20 gold medals"
   ]
  },
  {
   "cell_type": "code",
   "execution_count": 12,
   "metadata": {},
   "outputs": [
    {
     "data": {
      "text/plain": [
       "array(['Great Britain', 'China', 'Russia', 'United States'], dtype='<U13')"
      ]
     },
     "execution_count": 12,
     "metadata": {},
     "output_type": "execute_result"
    }
   ],
   "source": [
    "#Use Boolean indexing technique to find the required output\n",
    "max_gold_country = olympic_country[olympic_country_gold>20]\n",
    "max_gold_country"
   ]
  },
  {
   "cell_type": "markdown",
   "metadata": {},
   "source": [
    "#### Evaluate the dataset and print the name of each country with its gold medals and total number of medals"
   ]
  },
  {
   "cell_type": "code",
   "execution_count": 14,
   "metadata": {},
   "outputs": [
    {
     "name": "stdout",
     "output_type": "stream",
     "text": [
      " Great Britain, gold medal 29, total medal 65\n",
      " China, gold medal 38, total medal 88\n",
      " Russia, gold medal 24, total medal 81\n",
      " United States, gold medal 46, total medal 103\n",
      " Korea, gold medal 13, total medal 28\n",
      " Japan, gold medal 7, total medal 38\n",
      " Germany, gold medal 11, total medal 36\n"
     ]
    }
   ],
   "source": [
    "#Use a for loop to create the required output\n",
    "for i in range(len(olympic_country)):\n",
    "    gold_medl = olympic_country_gold[i]\n",
    "    country =  olympic_country[i]\n",
    "    total_medal = olympic_country_gold[i] + olympic_country_silver[i] + olympic_country_bronze[i]\n",
    "    print(' {}, gold medal {}, total medal {}'.format(country,gold_medl, total_medal))"
   ]
  },
  {
   "cell_type": "code",
   "execution_count": null,
   "metadata": {},
   "outputs": [],
   "source": []
  }
 ],
 "metadata": {
  "kernelspec": {
   "display_name": "Python 3",
   "language": "python",
   "name": "python3"
  },
  "language_info": {
   "codemirror_mode": {
    "name": "ipython",
    "version": 3
   },
   "file_extension": ".py",
   "mimetype": "text/x-python",
   "name": "python",
   "nbconvert_exporter": "python",
   "pygments_lexer": "ipython3",
   "version": "3.7.4"
  }
 },
 "nbformat": 4,
 "nbformat_minor": 1
}
